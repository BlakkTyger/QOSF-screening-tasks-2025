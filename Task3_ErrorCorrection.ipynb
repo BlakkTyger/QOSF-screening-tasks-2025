{
  "nbformat": 4,
  "nbformat_minor": 0,
  "metadata": {
    "colab": {
      "provenance": []
    },
    "kernelspec": {
      "name": "python3",
      "display_name": "Python 3"
    },
    "language_info": {
      "name": "python"
    }
  },
  "cells": [
    {
      "cell_type": "code",
      "source": [
        "!pip install -q qiskit"
      ],
      "metadata": {
        "collapsed": true,
        "id": "ORkQSJd6Wu6B"
      },
      "execution_count": 70,
      "outputs": []
    },
    {
      "cell_type": "code",
      "source": [
        "!pip install -q qiskit-aer"
      ],
      "metadata": {
        "collapsed": true,
        "id": "8U2c8QtyW3PM"
      },
      "execution_count": 71,
      "outputs": []
    },
    {
      "cell_type": "markdown",
      "source": [
        "## 1. A Simple Pauli Noise Model"
      ],
      "metadata": {
        "id": "K1nYVv8FWkBe"
      }
    },
    {
      "cell_type": "code",
      "execution_count": 72,
      "metadata": {
        "id": "Liz8uAVwVyyc"
      },
      "outputs": [],
      "source": [
        "import numpy as np\n",
        "from qiskit import QuantumCircuit, QuantumRegister, ClassicalRegister, transpile\n",
        "from qiskit_aer import AerSimulator\n",
        "from qiskit.visualization import plot_histogram, plot_circuit_layout\n",
        "from qiskit.quantum_info import Pauli"
      ]
    },
    {
      "cell_type": "code",
      "source": [
        "def add_pauli_noise(circuit, prob_x, prob_z):\n",
        "    \"\"\"\n",
        "    Correctly adds a Pauli noise channel to a circuit with multiple registers.\n",
        "\n",
        "    Args:\n",
        "        circuit (QuantumCircuit): The input circuit.\n",
        "        prob_x (float): The probability of an X error.\n",
        "        prob_z (float): The probability of a Z error.\n",
        "\n",
        "    Returns:\n",
        "        QuantumCircuit: A new circuit with noise added after each gate.\n",
        "    \"\"\"\n",
        "    prob_i = 1 - prob_x - prob_z\n",
        "    if prob_i < 0:\n",
        "        raise ValueError(\"Probabilities must sum to <= 1.\")\n",
        "\n",
        "    noise_circuit = QuantumCircuit(*circuit.qregs, *circuit.cregs)\n",
        "\n",
        "    # Iterate through instructions\n",
        "    for instruction in circuit.data:\n",
        "        noise_circuit.append(instruction)\n",
        "\n",
        "        # Add noise after the gate, but not after barriers or measurements\n",
        "        if instruction.operation.name not in ['barrier', 'measure']:\n",
        "            for qubit in instruction.qubits:\n",
        "                rand = np.random.random()\n",
        "                if rand < prob_x:\n",
        "                    noise_circuit.x(qubit)\n",
        "                elif rand < prob_x + prob_z:\n",
        "                    noise_circuit.z(qubit)\n",
        "    return noise_circuit"
      ],
      "metadata": {
        "id": "V2RiuNbAWtB-"
      },
      "execution_count": 73,
      "outputs": []
    },
    {
      "cell_type": "markdown",
      "source": [
        "Now, we test our noise model"
      ],
      "metadata": {
        "id": "5HfIrnG_aB3O"
      }
    },
    {
      "cell_type": "code",
      "source": [
        "# Making the ideal and noisy circuits\n",
        "qc_ideal = QuantumCircuit(2, 2)\n",
        "qc_ideal.h(0)\n",
        "qc_ideal.cx(0, 1)\n",
        "qc_ideal.measure([0, 1], [0, 1])\n",
        "p_x = 0.35\n",
        "p_z = 0.25\n",
        "qc_noisy = add_pauli_noise(qc_ideal, p_x, p_z)"
      ],
      "metadata": {
        "id": "MlAm8sMiXTsq"
      },
      "execution_count": 74,
      "outputs": []
    },
    {
      "cell_type": "code",
      "source": [
        "# Simulating the ciruits\n",
        "simulator = AerSimulator()\n",
        "shots = 2048\n",
        "\n",
        "t_qc_ideal = transpile(qc_ideal, simulator)\n",
        "result_ideal = simulator.run(t_qc_ideal, shots=shots).result()\n",
        "counts_ideal = result_ideal.get_counts()\n",
        "\n",
        "t_qc_noisy = transpile(qc_noisy, simulator)\n",
        "result_noisy = simulator.run(t_qc_noisy, shots=shots).result()\n",
        "counts_noisy = result_noisy.get_counts()"
      ],
      "metadata": {
        "id": "DonbuOptaqk0"
      },
      "execution_count": 75,
      "outputs": []
    },
    {
      "cell_type": "code",
      "source": [
        "# The Outputs\n",
        "print(\"Ideal Circuit Results\")\n",
        "print(counts_ideal, end = \"\\n\\n\")\n",
        "print(\"Noisy Circuit Results\")\n",
        "print(counts_noisy)"
      ],
      "metadata": {
        "colab": {
          "base_uri": "https://localhost:8080/"
        },
        "id": "AXjdsXaTav0e",
        "outputId": "2df9d098-3f25-4ffc-c091-b0f7cfebda12"
      },
      "execution_count": 76,
      "outputs": [
        {
          "output_type": "stream",
          "name": "stdout",
          "text": [
            "Ideal Circuit Results\n",
            "{'11': 1045, '00': 1003}\n",
            "\n",
            "Noisy Circuit Results\n",
            "{'10': 1026, '01': 1022}\n"
          ]
        }
      ]
    },
    {
      "cell_type": "code",
      "source": [
        "# Visualize the difference\n",
        "plot_histogram([counts_ideal, counts_noisy], legend=['Ideal', 'Noisy'], title=\"Bell State with and without Pauli Noise\")"
      ],
      "metadata": {
        "colab": {
          "base_uri": "https://localhost:8080/",
          "height": 487
        },
        "id": "U-ma-Ucra3JD",
        "outputId": "cffce674-8570-4e45-c23f-fa2b41757a81"
      },
      "execution_count": 77,
      "outputs": [
        {
          "output_type": "execute_result",
          "data": {
            "text/plain": [
              "<Figure size 640x480 with 1 Axes>"
            ],
            "image/png": "[encoded data removed]"
          },
          "metadata": {},
          "execution_count": 77
        }
      ]
    },
    {
      "cell_type": "markdown",
      "source": [
        "## 2. Quantum Repetition Code"
      ],
      "metadata": {
        "id": "fY_2G7opYItS"
      }
    },
    {
      "cell_type": "markdown",
      "source": [
        "It encodes one logical qubit into three physical qubits to protect against a single bit-flip (X) error.\n",
        "\n",
        "1. **Encoding**\n",
        "\n",
        "A general state $∣\\psi\\rangle=\\alpha∣0\\rangle+\\beta∣1\\rangle$ is encoded as ∣$\\psi\\rangle_L​=\\alpha∣000\\rangle+\\beta∣111\\rangle$.\n",
        "\n",
        "This is achieved with a simple circuit using two CNOT gates.\n",
        "\n",
        "2. **Error Detection**\n",
        "\n",
        "If a bit-flip occurs on one qubit (e.g., $∣000\\rangle \\rightarrow ∣100\\rangle$), the state is no longer in the valid codespace. We cannot simply measure the three qubits to see which one flipped, as that would destroy the quantum superposition.\n",
        "\n",
        "\n",
        "So we need to detect the bit flips indirectly. This is done by measuring the parity between pairs of qubits. These parity checks are called **stabilizer measurements**, and their results form the **syndrome**.\n",
        "\n",
        "For the repetition code, two stabilizers are measured:\n",
        "1. Parity of Qubit 0 and Qubit 1 ($Z_0​Z_1$​): Are the states of the first two qubits the same or different?\n",
        "2. Parity of Qubit 1 and Qubit 2 ($Z_1​Z_2$​): Are the states of the last two qubits the same or different?\n",
        "\n",
        "The measurement results give us a two-bit syndrome that uniquely identifies the error. This measurement is done by using two extra ancilla qubits. CNOT gates are used to copy the parity information onto the ancillas, which are then measured. This extracts the syndrome without disturbing the main data qubits."
      ],
      "metadata": {
        "id": "Fzv1ugbesRKg"
      }
    },
    {
      "cell_type": "code",
      "source": [
        "# Initializing Registers\n",
        "logical_qubit_index = 0\n",
        "qr = QuantumRegister(3, name='data')\n",
        "ar = QuantumRegister(2, name='syndrome')\n",
        "cr = ClassicalRegister(3, name='c_data')\n",
        "sc = ClassicalRegister(2, name='c_syndrome')"
      ],
      "metadata": {
        "id": "kra6sOIJYOnx"
      },
      "execution_count": 78,
      "outputs": []
    },
    {
      "cell_type": "code",
      "source": [
        "# Preparing initial state |+>\n",
        "qc_rep = QuantumCircuit(qr, ar, cr, sc)\n",
        "qc_rep.h(logical_qubit_index)\n",
        "\n",
        "qc_rep.cx(qr[0], qr[1])\n",
        "qc_rep.cx(qr[0], qr[2])\n",
        "qc_rep.barrier()"
      ],
      "metadata": {
        "colab": {
          "base_uri": "https://localhost:8080/"
        },
        "id": "GMa71BYlwJ_e",
        "outputId": "6cb20724-2446-4625-da8e-bee523cc6391"
      },
      "execution_count": 79,
      "outputs": [
        {
          "output_type": "execute_result",
          "data": {
            "text/plain": [
              "CircuitInstruction(operation=Instruction(name='barrier', num_qubits=5, num_clbits=0, params=[]), qubits=(<Qubit register=(3, \"data\"), index=0>, <Qubit register=(3, \"data\"), index=1>, <Qubit register=(3, \"data\"), index=2>, <Qubit register=(2, \"syndrome\"), index=0>, <Qubit register=(2, \"syndrome\"), index=1>), clbits=())"
            ]
          },
          "metadata": {},
          "execution_count": 79
        }
      ]
    },
    {
      "cell_type": "code",
      "source": [
        "# inserting X error\n",
        "qc_rep.x(qr[1])\n",
        "qc_rep.barrier()"
      ],
      "metadata": {
        "colab": {
          "base_uri": "https://localhost:8080/"
        },
        "id": "40UpX46awMPA",
        "outputId": "6e4a8dfa-5bb4-494c-d77d-d453e86ae9c1"
      },
      "execution_count": 80,
      "outputs": [
        {
          "output_type": "execute_result",
          "data": {
            "text/plain": [
              "CircuitInstruction(operation=Instruction(name='barrier', num_qubits=5, num_clbits=0, params=[]), qubits=(<Qubit register=(3, \"data\"), index=0>, <Qubit register=(3, \"data\"), index=1>, <Qubit register=(3, \"data\"), index=2>, <Qubit register=(2, \"syndrome\"), index=0>, <Qubit register=(2, \"syndrome\"), index=1>), clbits=())"
            ]
          },
          "metadata": {},
          "execution_count": 80
        }
      ]
    },
    {
      "cell_type": "code",
      "source": [
        "# Measure stabilizers Z_0Z_1 and Z_1Z_2\n",
        "qc_rep.cx(qr[0], ar[0])\n",
        "qc_rep.cx(qr[1], ar[0])\n",
        "qc_rep.cx(qr[1], ar[1])\n",
        "qc_rep.cx(qr[2], ar[1])\n",
        "qc_rep.measure(ar, sc)\n",
        "qc_rep.barrier()"
      ],
      "metadata": {
        "colab": {
          "base_uri": "https://localhost:8080/"
        },
        "id": "E6jYiTNVwQnv",
        "outputId": "cd7a58c5-6a12-4c32-9d91-48e9c2072e46"
      },
      "execution_count": 81,
      "outputs": [
        {
          "output_type": "execute_result",
          "data": {
            "text/plain": [
              "CircuitInstruction(operation=Instruction(name='barrier', num_qubits=5, num_clbits=0, params=[]), qubits=(<Qubit register=(3, \"data\"), index=0>, <Qubit register=(3, \"data\"), index=1>, <Qubit register=(3, \"data\"), index=2>, <Qubit register=(2, \"syndrome\"), index=0>, <Qubit register=(2, \"syndrome\"), index=1>), clbits=())"
            ]
          },
          "metadata": {},
          "execution_count": 81
        }
      ]
    },
    {
      "cell_type": "code",
      "source": [
        "# Apply correction based on syndrome measurement\n",
        "'''\n",
        "Syndrome '10' implies error on qubit 0\n",
        "Syndrome '11' implies error on qubit 1\n",
        "Syndrome '01' implies error on qubit 2\n",
        "'''\n",
        "with qc_rep.if_test((sc, 1)): # sc == '01'\n",
        "    qc_rep.x(qr[2])\n",
        "with qc_rep.if_test((sc, 2)): # sc == '10'\n",
        "    qc_rep.x(qr[0])\n",
        "with qc_rep.if_test((sc, 3)): # sc == '11'\n",
        "    qc_rep.x(qr[1])\n",
        "qc_rep.barrier()"
      ],
      "metadata": {
        "colab": {
          "base_uri": "https://localhost:8080/"
        },
        "id": "sCbaT13nwStV",
        "outputId": "ab285125-630b-423e-ed3f-989d467b399f"
      },
      "execution_count": 82,
      "outputs": [
        {
          "output_type": "execute_result",
          "data": {
            "text/plain": [
              "CircuitInstruction(operation=Instruction(name='barrier', num_qubits=5, num_clbits=0, params=[]), qubits=(<Qubit register=(3, \"data\"), index=0>, <Qubit register=(3, \"data\"), index=1>, <Qubit register=(3, \"data\"), index=2>, <Qubit register=(2, \"syndrome\"), index=0>, <Qubit register=(2, \"syndrome\"), index=1>), clbits=())"
            ]
          },
          "metadata": {},
          "execution_count": 82
        }
      ]
    },
    {
      "cell_type": "code",
      "source": [
        "# Decoding and Measurement\n",
        "qc_rep.cx(qr[0], qr[2])\n",
        "qc_rep.cx(qr[0], qr[1])\n",
        "qc_rep.h(qr[0])\n",
        "qc_rep.measure(qr[0], cr[0])"
      ],
      "metadata": {
        "colab": {
          "base_uri": "https://localhost:8080/"
        },
        "id": "m1zePk3WyzBW",
        "outputId": "0da34460-a9b1-4dcc-a1b6-09fc3326c72a"
      },
      "execution_count": 83,
      "outputs": [
        {
          "output_type": "execute_result",
          "data": {
            "text/plain": [
              "<qiskit.circuit.instructionset.InstructionSet at 0x79a814babf70>"
            ]
          },
          "metadata": {},
          "execution_count": 83
        }
      ]
    },
    {
      "cell_type": "code",
      "source": [
        "# Simulation\n",
        "t_qc_rep = transpile(qc_rep, simulator)\n",
        "result = simulator.run(t_qc_rep, shots=shots).result()\n",
        "counts = result.get_counts()\n",
        "print(\"\\n--- Repetition Code Test Results ---\")\n",
        "print(counts)\n",
        "plot_histogram(counts, title=\"Repetition Code Correcting an X Error on Qubit 1\")"
      ],
      "metadata": {
        "colab": {
          "base_uri": "https://localhost:8080/",
          "height": 539
        },
        "id": "fbBIGMLjy1Ed",
        "outputId": "cf4daac4-d6c7-4517-af87-0fa564bc031d"
      },
      "execution_count": 84,
      "outputs": [
        {
          "output_type": "stream",
          "name": "stdout",
          "text": [
            "\n",
            "--- Repetition Code Test Results ---\n",
            "{'11 000': 2048}\n"
          ]
        },
        {
          "output_type": "execute_result",
          "data": {
            "text/plain": [
              "<Figure size 640x480 with 1 Axes>"
            ],
            "image/png": "[encoded data removed]"
          },
          "metadata": {},
          "execution_count": 84
        }
      ]
    },
    {
      "cell_type": "markdown",
      "source": [
        "The results show that even with a guaranteed X error on the second qubit, the correction logic successfully flips it back, and we predominantly measure the correct logical state."
      ],
      "metadata": {
        "id": "SwJx2RSdtiXU"
      }
    },
    {
      "cell_type": "markdown",
      "source": [
        "### Why does the Repetition Code fail for Z errors?\n",
        "The failure of Repetition Code for Z errors can be explained via 2 reasons:\n",
        "1. **State Invariance:** A Z error on any qubit maps the logical state $∣\\psi\\rangle_L​=\\alpha∣000\\rangle+\\beta∣111\\rangle$ to $\\alpha∣000\\rangle−\\beta∣111\\rangle$. This new state is still a valid superposition of the two basis states ∣000⟩ and ∣111⟩. The relative phase has changed, but the computational basis measurements are unaffected.\n",
        "2. **Syndrome Invisibility:** The stabilizers ($Z_0​Z_1​, Z_1​Z_2$​) are composed of Z operators. All Pauli Z operators commute with each other. Therefore, a Z error on any data qubit will commute with the stabilizer measurements. The stabilizers will always measure +1 (syndrome 00), making the Z error completely undetectable.\n",
        "\n",
        "To fix phase errors, we need to encode the state in Hadamard basis, which swaps the roles of X and Z errors. The Shor code combines both approaches."
      ],
      "metadata": {
        "id": "X0FvhQGptlzn"
      }
    },
    {
      "cell_type": "markdown",
      "source": [
        "# 3. Shor code"
      ],
      "metadata": {
        "id": "9Y6hQiFAbGdS"
      }
    },
    {
      "cell_type": "markdown",
      "source": [
        "The Shor code is a concatenated code that combines a phase-flip and a bit-flip correction code to correct any arbitrary single-qubit error. 9 physical qubits encode 1 logical qubit and can correct errors on any single qubit.\n",
        "1. **Phase-Flip Correction:** A single logical qubit is encoded into three qubits to protect against phase-flips\n",
        "2. **Bit-Flip Correction:** Each of those three qubits is then encoded into its own block of three physical qubits to protect against bit-flips."
      ],
      "metadata": {
        "id": "5UCJqfHt2x9F"
      }
    },
    {
      "cell_type": "code",
      "source": [
        "# Define Registers\n",
        "q = QuantumRegister(9, name='data')\n",
        "a = QuantumRegister(2, name='ancilla')\n",
        "c_syn = ClassicalRegister(8, name='syndrome')\n",
        "c_out = ClassicalRegister(1, name='output')"
      ],
      "metadata": {
        "id": "Ra3caQR1bMpb"
      },
      "execution_count": 85,
      "outputs": []
    },
    {
      "cell_type": "code",
      "source": [
        "# Create the main circuit\n",
        "qc_shor = QuantumCircuit(q, a, c_syn, c_out)"
      ],
      "metadata": {
        "id": "ZIeS7xOk0esp"
      },
      "execution_count": 86,
      "outputs": []
    },
    {
      "cell_type": "markdown",
      "source": [
        "### 1. Encoding\n"
      ],
      "metadata": {
        "id": "WyMXHjnm1EMe"
      }
    },
    {
      "cell_type": "code",
      "source": [
        "# Build the encoder circuit\n",
        "encoder = QuantumCircuit(q, name='Encoder')\n",
        "encoder.h(q[0])\n",
        "encoder.cx(q[0], q[3]); encoder.cx(q[0], q[6])\n",
        "encoder.h(q[0]); encoder.h(q[3]); encoder.h(q[6])\n",
        "encoder.cx(q[0], q[1]); encoder.cx(q[0], q[2])\n",
        "encoder.cx(q[3], q[4]); encoder.cx(q[3], q[5])\n",
        "encoder.cx(q[6], q[7]); encoder.cx(q[6], q[8])\n",
        "qc_shor.append(encoder, q)\n",
        "qc_shor.barrier()"
      ],
      "metadata": {
        "colab": {
          "base_uri": "https://localhost:8080/"
        },
        "id": "uTsCb4m968WU",
        "outputId": "4f6b36db-5c55-46d0-f05b-091c4943d2fa"
      },
      "execution_count": 87,
      "outputs": [
        {
          "output_type": "execute_result",
          "data": {
            "text/plain": [
              "CircuitInstruction(operation=Instruction(name='barrier', num_qubits=11, num_clbits=0, params=[]), qubits=(<Qubit register=(9, \"data\"), index=0>, <Qubit register=(9, \"data\"), index=1>, <Qubit register=(9, \"data\"), index=2>, <Qubit register=(9, \"data\"), index=3>, <Qubit register=(9, \"data\"), index=4>, <Qubit register=(9, \"data\"), index=5>, <Qubit register=(9, \"data\"), index=6>, <Qubit register=(9, \"data\"), index=7>, <Qubit register=(9, \"data\"), index=8>, <Qubit register=(2, \"ancilla\"), index=0>, <Qubit register=(2, \"ancilla\"), index=1>), clbits=())"
            ]
          },
          "metadata": {},
          "execution_count": 87
        }
      ]
    },
    {
      "cell_type": "markdown",
      "source": [
        "### 2. Noisy Channel\n",
        "We apply a noise model with a 10% chance of an X error and 10% for a Z error on all 9 data qubits."
      ],
      "metadata": {
        "id": "ikL3aQSX1XzX"
      }
    },
    {
      "cell_type": "code",
      "source": [
        "qc_shor = add_pauli_noise(qc_shor, prob_x=0.1, prob_z=0.1)\n",
        "qc_shor.barrier()"
      ],
      "metadata": {
        "colab": {
          "base_uri": "https://localhost:8080/"
        },
        "id": "Hzv_512J0tv0",
        "outputId": "128a34fc-6f4a-41e2-9489-49de0e51c138"
      },
      "execution_count": 88,
      "outputs": [
        {
          "output_type": "execute_result",
          "data": {
            "text/plain": [
              "CircuitInstruction(operation=Instruction(name='barrier', num_qubits=11, num_clbits=0, params=[]), qubits=(<Qubit register=(9, \"data\"), index=0>, <Qubit register=(9, \"data\"), index=1>, <Qubit register=(9, \"data\"), index=2>, <Qubit register=(9, \"data\"), index=3>, <Qubit register=(9, \"data\"), index=4>, <Qubit register=(9, \"data\"), index=5>, <Qubit register=(9, \"data\"), index=6>, <Qubit register=(9, \"data\"), index=7>, <Qubit register=(9, \"data\"), index=8>, <Qubit register=(2, \"ancilla\"), index=0>, <Qubit register=(2, \"ancilla\"), index=1>), clbits=())"
            ]
          },
          "metadata": {},
          "execution_count": 88
        }
      ]
    },
    {
      "cell_type": "markdown",
      "source": [
        "### 3. Syndrome Detection and Correction"
      ],
      "metadata": {
        "id": "mJtP9Zs91dZ9"
      }
    },
    {
      "cell_type": "code",
      "source": [
        "# a) Bit-flip correction\n",
        "\n",
        "for i in range(3):\n",
        "    block_start = i * 3\n",
        "    syndrome_bits = [c_syn[2*i], c_syn[2*i+1]]\n",
        "    qc_shor.cx(q[block_start], a[0]); qc_shor.cx(q[block_start + 1], a[0])\n",
        "    qc_shor.cx(q[block_start + 1], a[1]); qc_shor.cx(q[block_start + 2], a[1])\n",
        "    qc_shor.measure(a, syndrome_bits)\n",
        "    val_1 = 1 << (2*i); val_2 = 2 << (2*i); val_3 = 3 << (2*i)\n",
        "    with qc_shor.if_test((c_syn, val_1)): qc_shor.x(q[block_start + 2])\n",
        "    with qc_shor.if_test((c_syn, val_2)): qc_shor.x(q[block_start])\n",
        "    with qc_shor.if_test((c_syn, val_3)): qc_shor.x(q[block_start + 1])\n",
        "    qc_shor.reset(a)\n",
        "qc_shor.barrier()\n"
      ],
      "metadata": {
        "colab": {
          "base_uri": "https://localhost:8080/"
        },
        "id": "BPUtCZna0xKG",
        "outputId": "97745761-280d-46f2-cde0-4919d7fac6ab"
      },
      "execution_count": 89,
      "outputs": [
        {
          "output_type": "execute_result",
          "data": {
            "text/plain": [
              "CircuitInstruction(operation=Instruction(name='barrier', num_qubits=11, num_clbits=0, params=[]), qubits=(<Qubit register=(9, \"data\"), index=0>, <Qubit register=(9, \"data\"), index=1>, <Qubit register=(9, \"data\"), index=2>, <Qubit register=(9, \"data\"), index=3>, <Qubit register=(9, \"data\"), index=4>, <Qubit register=(9, \"data\"), index=5>, <Qubit register=(9, \"data\"), index=6>, <Qubit register=(9, \"data\"), index=7>, <Qubit register=(9, \"data\"), index=8>, <Qubit register=(2, \"ancilla\"), index=0>, <Qubit register=(2, \"ancilla\"), index=1>), clbits=())"
            ]
          },
          "metadata": {},
          "execution_count": 89
        }
      ]
    },
    {
      "cell_type": "code",
      "source": [
        "# b) Phase-flip correction\n",
        "qc_shor.h(q[0]); qc_shor.h(q[3]); qc_shor.h(q[6]) # Enter Hadamard basis\n",
        "qc_shor.cx(q[0], a[0]); qc_shor.cx(q[3], a[0])\n",
        "qc_shor.cx(q[3], a[1]); qc_shor.cx(q[6], a[1])\n",
        "qc_shor.measure(a, [c_syn[6], c_syn[7]])\n",
        "with qc_shor.if_test((c_syn, 64)):  qc_shor.z(q[6])\n",
        "with qc_shor.if_test((c_syn, 128)): qc_shor.z(q[0])\n",
        "with qc_shor.if_test((c_syn, 192)): qc_shor.z(q[3])\n",
        "qc_shor.reset(a)"
      ],
      "metadata": {
        "colab": {
          "base_uri": "https://localhost:8080/"
        },
        "id": "N_KSb9AB7rX7",
        "outputId": "10669ef9-969e-43c1-a923-88b0732c383c"
      },
      "execution_count": 90,
      "outputs": [
        {
          "output_type": "execute_result",
          "data": {
            "text/plain": [
              "<qiskit.circuit.instructionset.InstructionSet at 0x79a814c34070>"
            ]
          },
          "metadata": {},
          "execution_count": 90
        }
      ]
    },
    {
      "cell_type": "code",
      "source": [
        "# Return from the Hadamard basis to the computational basis before decoding.\n",
        "qc_shor.h(q[0]); qc_shor.h(q[3]); qc_shor.h(q[6])\n",
        "qc_shor.barrier()"
      ],
      "metadata": {
        "colab": {
          "base_uri": "https://localhost:8080/"
        },
        "id": "oimWpnhn7wJl",
        "outputId": "912183b4-0b74-4639-cc69-c0d61bda2049"
      },
      "execution_count": 91,
      "outputs": [
        {
          "output_type": "execute_result",
          "data": {
            "text/plain": [
              "CircuitInstruction(operation=Instruction(name='barrier', num_qubits=11, num_clbits=0, params=[]), qubits=(<Qubit register=(9, \"data\"), index=0>, <Qubit register=(9, \"data\"), index=1>, <Qubit register=(9, \"data\"), index=2>, <Qubit register=(9, \"data\"), index=3>, <Qubit register=(9, \"data\"), index=4>, <Qubit register=(9, \"data\"), index=5>, <Qubit register=(9, \"data\"), index=6>, <Qubit register=(9, \"data\"), index=7>, <Qubit register=(9, \"data\"), index=8>, <Qubit register=(2, \"ancilla\"), index=0>, <Qubit register=(2, \"ancilla\"), index=1>), clbits=())"
            ]
          },
          "metadata": {},
          "execution_count": 91
        }
      ]
    },
    {
      "cell_type": "markdown",
      "source": [
        "### 5. Final Decoding and Measurement"
      ],
      "metadata": {
        "id": "laws0CEI2LIA"
      }
    },
    {
      "cell_type": "code",
      "source": [
        "decoder = encoder.inverse()\n",
        "qc_shor.append(decoder, q)\n",
        "qc_shor.measure(q[0], c_out[0])"
      ],
      "metadata": {
        "colab": {
          "base_uri": "https://localhost:8080/"
        },
        "id": "UjmpdQP902ib",
        "outputId": "e6b512ab-8310-4d49-ae20-a3d9fca0b856"
      },
      "execution_count": 92,
      "outputs": [
        {
          "output_type": "execute_result",
          "data": {
            "text/plain": [
              "<qiskit.circuit.instructionset.InstructionSet at 0x79a814ba9660>"
            ]
          },
          "metadata": {},
          "execution_count": 92
        }
      ]
    },
    {
      "cell_type": "code",
      "source": [
        "# Simulation\n",
        "simulator = AerSimulator()\n",
        "shots = 4096\n",
        "t_qc_shor = transpile(qc_shor, simulator)\n",
        "result = simulator.run(t_qc_shor, shots=shots).result()\n",
        "counts = result.get_counts()\n",
        "\n",
        "plot_histogram(counts, title=\"Shor Code Final Measurement\")"
      ],
      "metadata": {
        "colab": {
          "base_uri": "https://localhost:8080/",
          "height": 487
        },
        "id": "bypGKNDL04lf",
        "outputId": "f6eeb84f-6bfd-4281-aef8-e576ae8d9e32"
      },
      "execution_count": 93,
      "outputs": [
        {
          "output_type": "execute_result",
          "data": {
            "text/plain": [
              "<Figure size 640x480 with 1 Axes>"
            ],
            "image/png": "[encoded data removed]"
          },
          "metadata": {},
          "execution_count": 93
        }
      ]
    },
    {
      "cell_type": "markdown",
      "source": [
        "# 4. The Steane (Quantum Hamming) Code"
      ],
      "metadata": {
        "id": "8inIfmSdcUUD"
      }
    },
    {
      "cell_type": "markdown",
      "source": [
        "The Quantum Analog of the Hamming code is the Steane code which is a [[7,1,3]] code that encodes 1 logical qubit into 7 physical qubits and can correct any single-qubit error. It belongs to the family of CSS codes, which are constructed from two classical linear codes.\n",
        "\n",
        "It is a stabilizer code defined by 6 stabilizer generators:\n",
        "\n",
        "1. **Z-type** (detect X errors): $Z_0​Z_4​Z_5​Z_6​, Z_1​Z_4​Z_6​Z_7​, Z_2​Z_5​Z_6​Z_7$​\n",
        "\n",
        "2. **X-type** (detect Z errors): $X_0​X_4​X_5​X_6​, X_1​X_4​X_6​X_7​, X_2​X_5​X_6​X_7​$"
      ],
      "metadata": {
        "id": "112rCqVa84Uz"
      }
    },
    {
      "cell_type": "code",
      "source": [
        "# Define Registers\n",
        "q_s = QuantumRegister(7, name='data')\n",
        "a_s = QuantumRegister(3, name='ancilla') # 3 ancillas are sufficient\n",
        "c_s_syn = ClassicalRegister(6, name='syndrome')\n",
        "c_s_out = ClassicalRegister(1, name='output')\n",
        "qc_steane = QuantumCircuit(q_s, a_s, c_s_syn, c_s_out)"
      ],
      "metadata": {
        "id": "FVxzdrwLb7Ct"
      },
      "execution_count": 94,
      "outputs": []
    },
    {
      "cell_type": "code",
      "source": [
        "# Encoding for logical |0>\n",
        "encoder_0 = QuantumCircuit(q_s, name='Encoder_for_0')\n",
        "encoder_0.cx(0, 6); encoder_0.cx(1, 6)\n",
        "encoder_0.cx(2, 5); encoder_0.cx(0, 5)\n",
        "encoder_0.cx(1, 4); encoder_0.cx(2, 4)\n",
        "encoder_0.cx(0, 3); encoder_0.cx(1, 3); encoder_0.cx(2, 3)\n",
        "qc_steane.append(encoder_0, q_s)\n",
        "qc_steane.barrier()"
      ],
      "metadata": {
        "colab": {
          "base_uri": "https://localhost:8080/"
        },
        "id": "6UfVv1bDDaui",
        "outputId": "7e114e18-796d-49eb-e22f-6cc3f49d2651"
      },
      "execution_count": 95,
      "outputs": [
        {
          "output_type": "execute_result",
          "data": {
            "text/plain": [
              "CircuitInstruction(operation=Instruction(name='barrier', num_qubits=10, num_clbits=0, params=[]), qubits=(<Qubit register=(7, \"data\"), index=0>, <Qubit register=(7, \"data\"), index=1>, <Qubit register=(7, \"data\"), index=2>, <Qubit register=(7, \"data\"), index=3>, <Qubit register=(7, \"data\"), index=4>, <Qubit register=(7, \"data\"), index=5>, <Qubit register=(7, \"data\"), index=6>, <Qubit register=(3, \"ancilla\"), index=0>, <Qubit register=(3, \"ancilla\"), index=1>, <Qubit register=(3, \"ancilla\"), index=2>), clbits=())"
            ]
          },
          "metadata": {},
          "execution_count": 95
        }
      ]
    },
    {
      "cell_type": "code",
      "source": [
        "# Noisy Channel\n",
        "qc_steane = add_pauli_noise(qc_steane, 0.1, 0.1)\n",
        "qc_steane.y(q_s[2])\n",
        "qc_steane.barrier()"
      ],
      "metadata": {
        "colab": {
          "base_uri": "https://localhost:8080/"
        },
        "id": "_A6qhdZ8DcO9",
        "outputId": "f3e3a801-868a-4bc4-96aa-758b969e028c"
      },
      "execution_count": 96,
      "outputs": [
        {
          "output_type": "execute_result",
          "data": {
            "text/plain": [
              "CircuitInstruction(operation=Instruction(name='barrier', num_qubits=10, num_clbits=0, params=[]), qubits=(<Qubit register=(7, \"data\"), index=0>, <Qubit register=(7, \"data\"), index=1>, <Qubit register=(7, \"data\"), index=2>, <Qubit register=(7, \"data\"), index=3>, <Qubit register=(7, \"data\"), index=4>, <Qubit register=(7, \"data\"), index=5>, <Qubit register=(7, \"data\"), index=6>, <Qubit register=(3, \"ancilla\"), index=0>, <Qubit register=(3, \"ancilla\"), index=1>, <Qubit register=(3, \"ancilla\"), index=2>), clbits=())"
            ]
          },
          "metadata": {},
          "execution_count": 96
        }
      ]
    },
    {
      "cell_type": "code",
      "source": [
        "# Syndrome Detection\n",
        "stabilizer_checks = [\n",
        "    # Z-type stabilizers:\n",
        "    ([0, 4, 5, 6], 0), ([1, 4, 6, 7-1], 1), ([2, 5, 6, 7-1], 2),\n",
        "    # X-type stabilizers:\n",
        "    ([0, 4, 5, 6], 3), ([1, 4, 6, 7-1], 4), ([2, 5, 6, 7-1], 5)\n",
        "]\n",
        "\n",
        "for qubits, cbit_idx in stabilizer_checks:\n",
        "    # Use H gates for Z-type stabilizers\n",
        "    if cbit_idx < 3: qc_steane.h(a_s[0])\n",
        "    for q_idx in qubits:\n",
        "        qc_steane.cx(q_s[q_idx], a_s[0])\n",
        "    if cbit_idx < 3: qc_steane.h(a_s[0])\n",
        "    qc_steane.measure(a_s[0], c_s_syn[cbit_idx])\n",
        "    qc_steane.reset(a_s[0]) # Reset ancilla for next check\n",
        "qc_steane.barrier()"
      ],
      "metadata": {
        "colab": {
          "base_uri": "https://localhost:8080/"
        },
        "id": "PlOcDYz4DdcA",
        "outputId": "044fafca-cc48-4cd8-97b9-c985bc5033b8"
      },
      "execution_count": 97,
      "outputs": [
        {
          "output_type": "execute_result",
          "data": {
            "text/plain": [
              "CircuitInstruction(operation=Instruction(name='barrier', num_qubits=10, num_clbits=0, params=[]), qubits=(<Qubit register=(7, \"data\"), index=0>, <Qubit register=(7, \"data\"), index=1>, <Qubit register=(7, \"data\"), index=2>, <Qubit register=(7, \"data\"), index=3>, <Qubit register=(7, \"data\"), index=4>, <Qubit register=(7, \"data\"), index=5>, <Qubit register=(7, \"data\"), index=6>, <Qubit register=(3, \"ancilla\"), index=0>, <Qubit register=(3, \"ancilla\"), index=1>, <Qubit register=(3, \"ancilla\"), index=2>), clbits=())"
            ]
          },
          "metadata": {},
          "execution_count": 97
        }
      ]
    },
    {
      "cell_type": "code",
      "source": [
        "# 4. Correction\n",
        "\n",
        "syndrome_map = {1: 0, 2: 1, 3: 3, 4: 2, 5: 5, 6: 4, 7: 6}\n",
        "\n",
        "for i in range(1, 8):\n",
        "    x_syndrome = i\n",
        "    z_syndrome = i << 3\n",
        "    qubit_to_fix = syndrome_map[i]\n",
        "\n",
        "    # Y error (both X and Z syndromes trigger)\n",
        "    with qc_steane.if_test((c_s_syn, x_syndrome | z_syndrome)):\n",
        "        qc_steane.y(q_s[qubit_to_fix])\n",
        "    # X error (only X syndrome triggers)\n",
        "    with qc_steane.if_test((c_s_syn, x_syndrome)) as else_block:\n",
        "        pass # Placeholder for Qiskit's if/else structure\n",
        "    with else_block:\n",
        "        with qc_steane.if_test((c_s_syn, x_syndrome)):\n",
        "            qc_steane.x(q_s[qubit_to_fix])\n",
        "    # Z error (only Z syndrome triggers)\n",
        "    with qc_steane.if_test((c_s_syn, z_syndrome)) as else_block:\n",
        "        pass\n",
        "    with else_block:\n",
        "        with qc_steane.if_test((c_s_syn, z_syndrome)):\n",
        "             qc_steane.z(q_s[qubit_to_fix])\n",
        "qc_steane.barrier()"
      ],
      "metadata": {
        "colab": {
          "base_uri": "https://localhost:8080/"
        },
        "id": "fkctgc_qDfKP",
        "outputId": "4901567d-1848-4881-8b22-b1f57b25bd5f"
      },
      "execution_count": 98,
      "outputs": [
        {
          "output_type": "execute_result",
          "data": {
            "text/plain": [
              "CircuitInstruction(operation=Instruction(name='barrier', num_qubits=10, num_clbits=0, params=[]), qubits=(<Qubit register=(7, \"data\"), index=0>, <Qubit register=(7, \"data\"), index=1>, <Qubit register=(7, \"data\"), index=2>, <Qubit register=(7, \"data\"), index=3>, <Qubit register=(7, \"data\"), index=4>, <Qubit register=(7, \"data\"), index=5>, <Qubit register=(7, \"data\"), index=6>, <Qubit register=(3, \"ancilla\"), index=0>, <Qubit register=(3, \"ancilla\"), index=1>, <Qubit register=(3, \"ancilla\"), index=2>), clbits=())"
            ]
          },
          "metadata": {},
          "execution_count": 98
        }
      ]
    },
    {
      "cell_type": "code",
      "source": [
        "# Decoding and Measurement\n",
        "decoder = encoder_0.inverse()\n",
        "qc_steane.append(decoder, q_s)\n",
        "qc_steane.measure(q_s[0], c_s_out[0]) # THE FIX: No final Hadamards\n",
        "\n",
        "# Simulation\n",
        "simulator = AerSimulator()\n",
        "shots = 4096\n",
        "t_qc_steane = transpile(qc_steane, simulator)\n",
        "result_s = simulator.run(t_qc_steane, shots=shots).result()\n",
        "counts_s = result_s.get_counts()\n",
        "\n",
        "# Process counts to show only the logical qubit result\n",
        "logical_counts = {}\n",
        "for output, count in counts_s.items():\n",
        "    logical_qubit_result = output.split(' ')[0]\n",
        "    logical_counts[logical_qubit_result] = logical_counts.get(logical_qubit_result, 0) + count\n",
        "\n",
        "plot_histogram(logical_counts, title=\"Steane Code Final Logical Measurement\")"
      ],
      "metadata": {
        "colab": {
          "base_uri": "https://localhost:8080/",
          "height": 487
        },
        "id": "qS6boZYjDgq-",
        "outputId": "d5e3de61-6f69-467e-951a-87eb27edf73b"
      },
      "execution_count": 99,
      "outputs": [
        {
          "output_type": "execute_result",
          "data": {
            "text/plain": [
              "<Figure size 640x480 with 1 Axes>"
            ],
            "image/png": "[encoded data removed]"
          },
          "metadata": {},
          "execution_count": 99
        }
      ]
    },
    {
      "cell_type": "markdown",
      "source": [
        "# 5. Differences between Shor and Hamming Codes\n",
        "\n",
        "|Feature|Shor Code [[9,1,3]]|Steane Code [[7,1,3]]|\n",
        "|  ---  |     ---           |      ---            |\n",
        "|**Qubit Overhead**|High (9:1). It uses 9 physical qubits for 1 logical qubit.|More Efficient (7:1). It uses only 7 physical qubits for the same task.|\n",
        "|**Code Structure**|Concatenated Code. <br/> <br/> Its structure is intuitive: a bit-flip code nested inside a phase-flip code.|CSS Code (Calderbank-Shor-Steane). <br/> <br/> It is constructed from two classical linear codes (the Hamming code and its dual). |\n",
        "|**Syndrome Measurement**|Measures bit-flip and phase-flip syndromes in separate, sequential stages. <br/> <br/> This can increase the depth of the overall error correction circuit.|Measures syndromes for bit-flips (X errors) and phase-flips (Z errors) in parallel.<br/> <br/> The full 6-bit syndrome pinpoints the error type and location in one step.|\n",
        "|**Fault Tolerance**|Can be made fault-tolerant, but implementing logical gates like the CNOT <br/> <br/> requires complex, non-trivial sequences of physical gates.|Possesses a transversal CNOT, Hadamard, and Phase gate. This means the logical gate <br/> <br/> can be implemented by simply applying the corresponding physical gate to each of the <br/> <br/> 7 data qubits individually. Simplifies the design of fault-tolerant quantum computers.|\n"
      ],
      "metadata": {
        "id": "_3r3ZWvodRil"
      }
    },
    {
      "cell_type": "markdown",
      "source": [
        "# 6. Challenges Detected\n",
        "\n",
        "1. **Massive Qubit Overhead:** Needing 7 or 9 high-quality physical qubits just to create a single, usable logical qubit is a significant resource cost on current and near-term quantum devices.\n",
        "\n",
        "2. **Circuit Complexity and Depth:** The circuits for encoding, and especially for syndrome detection, are complex and deep, involving many CNOT gates. Every additional gate increases the probability of an error occurring during the error correction process itself.\n",
        "\n",
        "3. **Real-Time Classical Control:** The process is not purely quantum. After a syndrome is measured (a quantum operation), the result must be read by a classical controller. This controller must then perform a rapid look-up to determine the correct feedback operation and apply the corresponding corrective pulse to the qubits. This entire classical feedback loop must be completed much faster than the decoherence time of the qubits."
      ],
      "metadata": {
        "id": "AiImq7KEfWXY"
      }
    }
  ]
}